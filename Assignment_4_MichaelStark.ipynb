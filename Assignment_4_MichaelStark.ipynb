{
 "cells": [
  {
   "cell_type": "markdown",
   "id": "daf3b04a",
   "metadata": {},
   "source": [
    "# Assignment 4 Michael Stark"
   ]
  },
  {
   "cell_type": "markdown",
   "id": "922acb62",
   "metadata": {},
   "source": [
    "### Mission:"
   ]
  },
  {
   "cell_type": "markdown",
   "id": "351b1233",
   "metadata": {},
   "source": [
    "Looking for named entities in Reuters' corpus, pos-tagging them, storing the resulting observations in a data frame and exporting it to a csv-file."
   ]
  },
  {
   "cell_type": "markdown",
   "id": "f6d6b333",
   "metadata": {},
   "source": [
    "### First steps:"
   ]
  },
  {
   "cell_type": "markdown",
   "id": "49fe32a1",
   "metadata": {},
   "source": [
    "Importing necessary libraries"
   ]
  },
  {
   "cell_type": "code",
   "execution_count": 1,
   "id": "4267becd",
   "metadata": {},
   "outputs": [],
   "source": [
    "import nltk\n",
    "import spacy\n",
    "import string\n",
    "import pandas as pd"
   ]
  },
  {
   "cell_type": "code",
   "execution_count": 2,
   "id": "802a956f",
   "metadata": {},
   "outputs": [],
   "source": [
    "# create corpus\n",
    "corpus = [word for word in nltk.corpus.reuters.words()]"
   ]
  },
  {
   "cell_type": "code",
   "execution_count": 3,
   "id": "fd52ca1f",
   "metadata": {},
   "outputs": [],
   "source": [
    "# initiate nlp-pipeline\n",
    "nlp = spacy.load(\"en_core_web_sm\")\n",
    "doc = nlp(' '.join(corpus[:1000]))"
   ]
  },
  {
   "cell_type": "code",
   "execution_count": 5,
   "id": "14285e32",
   "metadata": {},
   "outputs": [],
   "source": [
    "# catching named entities and pos_tags and cleaning them\n",
    "\n",
    "data_postag = [[token.lemma_, token.pos_, token.tag_,\n",
    "                token.dep_, token.ent_type_]\n",
    "               for token in doc if token.ent_type_ != '']\n",
    "\n",
    "\n",
    "data_postag_2 = [token for token in data_postag\n",
    "                 if token[0] not in string.punctuation]"
   ]
  },
  {
   "cell_type": "code",
   "execution_count": 7,
   "id": "fa808a06",
   "metadata": {},
   "outputs": [],
   "source": [
    "# setting up a dicitionary for data frame\n",
    "\n",
    "cols = ['lemma', 'pos', 'tag', 'dep', 'ent_type']\n",
    "\n",
    "df_prep = {col: [] for col in cols}"
   ]
  },
  {
   "cell_type": "code",
   "execution_count": 8,
   "id": "7b204245",
   "metadata": {},
   "outputs": [],
   "source": [
    "# filling in the values for each column\n",
    "\n",
    "for data in data_postag_2:\n",
    "    for x, y in enumerate(cols):\n",
    "        df_prep[y].append(data[x])"
   ]
  },
  {
   "cell_type": "code",
   "execution_count": 9,
   "id": "5f1aa48e",
   "metadata": {},
   "outputs": [],
   "source": [
    "# transfroming it into a pandas DataFrame\n",
    "\n",
    "df = pd.DataFrame(df_prep)"
   ]
  },
  {
   "cell_type": "code",
   "execution_count": 10,
   "id": "99ac6704",
   "metadata": {},
   "outputs": [],
   "source": [
    "# writing it to CSV\n",
    "\n",
    "df.to_csv('Assignment_4_MichaelStark_Dataset.csv')"
   ]
  }
 ],
 "metadata": {
  "kernelspec": {
   "display_name": "Python 3",
   "language": "python",
   "name": "python3"
  },
  "language_info": {
   "codemirror_mode": {
    "name": "ipython",
    "version": 3
   },
   "file_extension": ".py",
   "mimetype": "text/x-python",
   "name": "python",
   "nbconvert_exporter": "python",
   "pygments_lexer": "ipython3",
   "version": "3.9.2"
  }
 },
 "nbformat": 4,
 "nbformat_minor": 5
}
